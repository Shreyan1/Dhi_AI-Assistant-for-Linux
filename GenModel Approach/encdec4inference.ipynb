{
 "cells": [
  {
   "cell_type": "code",
   "execution_count": 1,
   "metadata": {},
   "outputs": [
    {
     "name": "stderr",
     "output_type": "stream",
     "text": [
      "/home/shreyan/Documents/Github/Project-Dhi/dhienv/lib/python3.12/site-packages/tqdm/auto.py:21: TqdmWarning: IProgress not found. Please update jupyter and ipywidgets. See https://ipywidgets.readthedocs.io/en/stable/user_install.html\n",
      "  from .autonotebook import tqdm as notebook_tqdm\n",
      "2024-11-18 18:15:58.279833: E external/local_xla/xla/stream_executor/cuda/cuda_fft.cc:477] Unable to register cuFFT factory: Attempting to register factory for plugin cuFFT when one has already been registered\n",
      "WARNING: All log messages before absl::InitializeLog() is called are written to STDERR\n",
      "E0000 00:00:1731933958.298677  125126 cuda_dnn.cc:8310] Unable to register cuDNN factory: Attempting to register factory for plugin cuDNN when one has already been registered\n",
      "E0000 00:00:1731933958.303990  125126 cuda_blas.cc:1418] Unable to register cuBLAS factory: Attempting to register factory for plugin cuBLAS when one has already been registered\n",
      "2024-11-18 18:15:58.322932: I tensorflow/core/platform/cpu_feature_guard.cc:210] This TensorFlow binary is optimized to use available CPU instructions in performance-critical operations.\n",
      "To enable the following instructions: AVX2 FMA, in other operations, rebuild TensorFlow with the appropriate compiler flags.\n"
     ]
    }
   ],
   "source": [
    "import transformers as tf\n",
    "from tensorflow.keras.models import load_model"
   ]
  },
  {
   "cell_type": "code",
   "execution_count": 2,
   "metadata": {},
   "outputs": [
    {
     "name": "stderr",
     "output_type": "stream",
     "text": [
      "2024-11-18 18:16:02.937717: E external/local_xla/xla/stream_executor/cuda/cuda_driver.cc:152] failed call to cuInit: INTERNAL: CUDA error: Failed call to cuInit: CUDA_ERROR_NO_DEVICE: no CUDA-capable device is detected\n",
      "/home/shreyan/Documents/Github/Project-Dhi/dhienv/lib/python3.12/site-packages/keras/src/saving/saving_lib.py:713: UserWarning: Skipping variable loading for optimizer 'rmsprop', because it has 12 variables whereas the saved optimizer has 22 variables. \n",
      "  saveable.load_own_variables(weights_store.get(inner_path))\n",
      "/home/shreyan/Documents/Github/Project-Dhi/dhienv/lib/python3.12/site-packages/keras/src/saving/saving_lib.py:713: UserWarning: Skipping variable loading for optimizer 'rmsprop', because it has 12 variables whereas the saved optimizer has 22 variables. \n",
      "  saveable.load_own_variables(weights_store.get(inner_path))\n"
     ]
    }
   ],
   "source": [
    "model = load_model('linux_command_generator.keras')"
   ]
  },
  {
   "cell_type": "code",
   "execution_count": 3,
   "metadata": {},
   "outputs": [],
   "source": [
    "from tensorflow.keras import Model\n",
    "\n",
    "# Encoder setup\n",
    "encoder_inputs = model.input[0]  # Input for the encoder\n",
    "encoder_outputs, state_h, state_c = model.layers[4].output  # Outputs from the encoder LSTM\n",
    "encoder_model = Model(encoder_inputs, [state_h, state_c])  # Define the encoder model"
   ]
  },
  {
   "cell_type": "code",
   "execution_count": 4,
   "metadata": {},
   "outputs": [],
   "source": [
    "from tensorflow.keras.layers import Input, LSTM\n",
    "from tensorflow.keras.models import Model\n",
    "\n",
    "# Define decoder input sequence\n",
    "decoder_inputs = Input(shape=(None,))  # Placeholder for decoder input sequences\n",
    "decoder_embedding = model.layers[3](decoder_inputs)  # Embedding layer for decoder\n",
    "\n",
    "# Retrieve LSTM units\n",
    "units = model.layers[5].units\n",
    "\n",
    "# Placeholders for decoder LSTM states\n",
    "decoder_state_input_h = Input(shape=(units,))\n",
    "decoder_state_input_c = Input(shape=(units,))\n",
    "decoder_states_inputs = [decoder_state_input_h, decoder_state_input_c]\n",
    "\n",
    "# Recreate the decoder LSTM layer for inference\n",
    "decoder_lstm_inference = LSTM(\n",
    "    units,\n",
    "    return_sequences=True,\n",
    "    return_state=True,\n",
    "    name=\"decoder_lstm_inference\",\n",
    ")\n",
    "decoder_outputs, state_h, state_c = decoder_lstm_inference(\n",
    "    decoder_embedding, initial_state=decoder_states_inputs\n",
    ")\n",
    "\n",
    "# Dense layer for output\n",
    "decoder_dense = model.layers[6]\n",
    "decoder_outputs = decoder_dense(decoder_outputs)\n",
    "\n",
    "# Define the decoder model\n",
    "decoder_model = Model(\n",
    "    [decoder_inputs] + decoder_states_inputs,  # Inputs for decoder sequence and states\n",
    "    [decoder_outputs, state_h, state_c],  # Outputs: predictions and new states\n",
    ")\n"
   ]
  },
  {
   "cell_type": "code",
   "execution_count": 5,
   "metadata": {},
   "outputs": [],
   "source": [
    "from tensorflow.keras.preprocessing.sequence import pad_sequences\n",
    "\n",
    "def generate_command(input_text, max_length=50):\n",
    "    # Tokenize and pad the input\n",
    "    input_seq = pad_sequences(\n",
    "        input_tokeniser.texts_to_sequences([input_text]),\n",
    "        maxlen=input_sequences.shape[1],  # Ensure padding matches the trained input size\n",
    "        padding='post'\n",
    "    )\n",
    "\n",
    "    # Encode the input\n",
    "    states_value = encoder_model.predict(input_seq)\n",
    "\n",
    "    # Start the decoding process\n",
    "    target_seq = pad_sequences([[output_tokeniser.word_index['<start>']]], maxlen=1)\n",
    "    decoded_sentence = ''\n",
    "    \n",
    "    for _ in range(max_length):\n",
    "        # Predict the next token\n",
    "        output_tokens, h, c = decoder_model.predict([target_seq] + states_value)\n",
    "        \n",
    "        # Get the most likely token\n",
    "        sampled_token_index = output_tokens.argmax(axis=-1)[0, -1]\n",
    "        sampled_word = output_tokeniser.index_word[sampled_token_index]\n",
    "        \n",
    "        # Break if the end token is reached\n",
    "        if sampled_word == '<end>':\n",
    "            break\n",
    "\n",
    "        decoded_sentence += ' ' + sampled_word\n",
    "        \n",
    "        # Update the target sequence\n",
    "        target_seq = pad_sequences([[sampled_token_index]], maxlen=1, padding='post')\n",
    "\n",
    "        # Update states\n",
    "        states_value = [h, c]\n",
    "    \n",
    "    return decoded_sentence.strip()\n"
   ]
  },
  {
   "cell_type": "code",
   "execution_count": 6,
   "metadata": {},
   "outputs": [],
   "source": [
    "import pickle\n",
    "\n",
    "# Load tokenisers\n",
    "with open('input_tokeniser.pkl', 'rb') as handle:\n",
    "    input_tokeniser = pickle.load(handle)\n",
    "\n",
    "with open('output_tokeniser.pkl', 'rb') as handle:\n",
    "    output_tokeniser = pickle.load(handle)"
   ]
  },
  {
   "cell_type": "code",
   "execution_count": 7,
   "metadata": {},
   "outputs": [
    {
     "ename": "NameError",
     "evalue": "name 'input_sequences' is not defined",
     "output_type": "error",
     "traceback": [
      "\u001b[0;31m---------------------------------------------------------------------------\u001b[0m",
      "\u001b[0;31mNameError\u001b[0m                                 Traceback (most recent call last)",
      "Cell \u001b[0;32mIn[7], line 3\u001b[0m\n\u001b[1;32m      1\u001b[0m \u001b[38;5;66;03m# Call the function\u001b[39;00m\n\u001b[1;32m      2\u001b[0m input_query \u001b[38;5;241m=\u001b[39m \u001b[38;5;124m\"\u001b[39m\u001b[38;5;124m(BSD specific) Display process information twice, waiting one second between each, filtering out the header line.\u001b[39m\u001b[38;5;124m\"\u001b[39m\n\u001b[0;32m----> 3\u001b[0m generated_command \u001b[38;5;241m=\u001b[39m \u001b[43mgenerate_command\u001b[49m\u001b[43m(\u001b[49m\u001b[43minput_query\u001b[49m\u001b[43m)\u001b[49m\n\u001b[1;32m      4\u001b[0m \u001b[38;5;28mprint\u001b[39m(\u001b[38;5;124mf\u001b[39m\u001b[38;5;124m\"\u001b[39m\u001b[38;5;124mGenerated Command: \u001b[39m\u001b[38;5;132;01m{\u001b[39;00mgenerated_command\u001b[38;5;132;01m}\u001b[39;00m\u001b[38;5;124m\"\u001b[39m)\n",
      "Cell \u001b[0;32mIn[5], line 7\u001b[0m, in \u001b[0;36mgenerate_command\u001b[0;34m(input_text, max_length)\u001b[0m\n\u001b[1;32m      3\u001b[0m \u001b[38;5;28;01mdef\u001b[39;00m \u001b[38;5;21mgenerate_command\u001b[39m(input_text, max_length\u001b[38;5;241m=\u001b[39m\u001b[38;5;241m50\u001b[39m):\n\u001b[1;32m      4\u001b[0m     \u001b[38;5;66;03m# Tokenize and pad the input\u001b[39;00m\n\u001b[1;32m      5\u001b[0m     input_seq \u001b[38;5;241m=\u001b[39m pad_sequences(\n\u001b[1;32m      6\u001b[0m         input_tokeniser\u001b[38;5;241m.\u001b[39mtexts_to_sequences([input_text]),\n\u001b[0;32m----> 7\u001b[0m         maxlen\u001b[38;5;241m=\u001b[39m\u001b[43minput_sequences\u001b[49m\u001b[38;5;241m.\u001b[39mshape[\u001b[38;5;241m1\u001b[39m],  \u001b[38;5;66;03m# Ensure padding matches the trained input size\u001b[39;00m\n\u001b[1;32m      8\u001b[0m         padding\u001b[38;5;241m=\u001b[39m\u001b[38;5;124m'\u001b[39m\u001b[38;5;124mpost\u001b[39m\u001b[38;5;124m'\u001b[39m\n\u001b[1;32m      9\u001b[0m     )\n\u001b[1;32m     11\u001b[0m     \u001b[38;5;66;03m# Encode the input\u001b[39;00m\n\u001b[1;32m     12\u001b[0m     states_value \u001b[38;5;241m=\u001b[39m encoder_model\u001b[38;5;241m.\u001b[39mpredict(input_seq)\n",
      "\u001b[0;31mNameError\u001b[0m: name 'input_sequences' is not defined"
     ]
    }
   ],
   "source": [
    "# Call the function\n",
    "input_query = \"(BSD specific) Display process information twice, waiting one second between each, filtering out the header line.\"\n",
    "generated_command = generate_command(input_query)\n",
    "print(f\"Generated Command: {generated_command}\")\n"
   ]
  },
  {
   "cell_type": "code",
   "execution_count": null,
   "metadata": {},
   "outputs": [],
   "source": []
  }
 ],
 "metadata": {
  "kernelspec": {
   "display_name": "dhienv",
   "language": "python",
   "name": "python3"
  },
  "language_info": {
   "codemirror_mode": {
    "name": "ipython",
    "version": 3
   },
   "file_extension": ".py",
   "mimetype": "text/x-python",
   "name": "python",
   "nbconvert_exporter": "python",
   "pygments_lexer": "ipython3",
   "version": "3.12.3"
  }
 },
 "nbformat": 4,
 "nbformat_minor": 2
}

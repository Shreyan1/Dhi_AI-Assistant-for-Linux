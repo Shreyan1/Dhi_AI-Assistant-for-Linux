{
 "cells": [
  {
   "cell_type": "code",
   "execution_count": 27,
   "metadata": {},
   "outputs": [],
   "source": [
    "import sqlite3\n",
    "import subprocess\n",
    "import re"
   ]
  },
  {
   "cell_type": "code",
   "execution_count": 28,
   "metadata": {},
   "outputs": [],
   "source": [
    "def connect_db(db_path='db_contents.db'):\n",
    "    try:\n",
    "        conn = sqlite3.connect(db_path)\n",
    "        return conn\n",
    "    except sqlite3.Error as e:\n",
    "        print(f\"Error connecting to database: {e}\")\n",
    "        return None"
   ]
  },
  {
   "cell_type": "code",
   "execution_count": 29,
   "metadata": {},
   "outputs": [],
   "source": [
    "# Query the database to find the appropriate command\n",
    "def get_command(conn, user_input):\n",
    "    query = '''\n",
    "    SELECT command FROM \"CMD-LIST\" WHERE natural_language = ?;\n",
    "    '''\n",
    "    cursor = conn.execute(query, (user_input,))\n",
    "    result = cursor.fetchone()\n",
    "    return result[0] if result else None\n"
   ]
  },
  {
   "cell_type": "code",
   "execution_count": null,
   "metadata": {},
   "outputs": [],
   "source": [
    "# Replace placeholders with user input\n",
    "def replace_placeholders(command):\n",
    "    # Detect placeholders like <filename>, <source>, <destination>, etc.\n",
    "    placeholders = re.findall(r'<(.*?)>', command)\n",
    "    \n",
    "    if placeholders:\n",
    "        for placeholder in placeholders:\n",
    "            # Ask the user for each missing parameter\n",
    "            value = input(f\"Please provide a value for {placeholder}: \")\n",
    "            # Replace the placeholder with the user-provided value\n",
    "            command = command.replace(f\"<{placeholder}>\", value)\n",
    "    \n",
    "    return command"
   ]
  },
  {
   "cell_type": "code",
   "execution_count": 30,
   "metadata": {},
   "outputs": [],
   "source": [
    "# Execute the command in the terminal\n",
    "def execute_command(command):\n",
    "    try:\n",
    "        result = subprocess.run(command,shell=True,\n",
    "                                check=True, \n",
    "                                text=True, \n",
    "                                stdout=subprocess.PIPE, \n",
    "                                stderr=subprocess.PIPE)\n",
    "        return result.stdout\n",
    "    except subprocess.CalledProcessError as e:\n",
    "        return f\"Error executing command: {e.stderr}\""
   ]
  },
  {
   "cell_type": "code",
   "execution_count": 31,
   "metadata": {},
   "outputs": [
    {
     "name": "stdout",
     "output_type": "stream",
     "text": [
      "Executing: df -h\n",
      "Filesystem      Size  Used Avail Use% Mounted on\n",
      "tmpfs           3.1G  2.1M  3.1G   1% /run\n",
      "efivarfs        384K   95K  285K  25% /sys/firmware/efi/efivars\n",
      "/dev/nvme0n1p2  938G   35G  856G   4% /\n",
      "tmpfs            16G  140M   16G   1% /dev/shm\n",
      "tmpfs           5.0M  8.0K  5.0M   1% /run/lock\n",
      "/dev/nvme0n1p1  511M  6.2M  505M   2% /boot/efi\n",
      "tmpfs           3.1G  224K  3.1G   1% /run/user/1000\n",
      "\n"
     ]
    }
   ],
   "source": [
    "conn = connect_db()\n",
    "if conn is None:\n",
    "    print(\"Failed to connect to the database. Exiting.\")\n",
    "    exit(1)\n",
    "\n",
    "# User input\n",
    "user_input = input(\"Enter your command: \").strip().lower()\n",
    "\n",
    "# Retrieve the Unix command and description based on user input\n",
    "result = get_command(conn, user_input)\n",
    "\n",
    "if result:\n",
    "    command, description = result\n",
    "    print(f\"Executing: {description}\")\n",
    "    \n",
    "    # Replace any placeholders like <filename>, <address>, etc.\n",
    "    command_with_values = replace_placeholders(command)\n",
    "    \n",
    "    # Execute the command and show output\n",
    "    output = execute_command(command_with_values)\n",
    "    print(output)\n",
    "else:\n",
    "    print(\"Command not found in the database.\")"
   ]
  }
 ],
 "metadata": {
  "kernelspec": {
   "display_name": "usr",
   "language": "python",
   "name": "python3"
  },
  "language_info": {
   "codemirror_mode": {
    "name": "ipython",
    "version": 3
   },
   "file_extension": ".py",
   "mimetype": "text/x-python",
   "name": "python",
   "nbconvert_exporter": "python",
   "pygments_lexer": "ipython3",
   "version": "3.12.3"
  }
 },
 "nbformat": 4,
 "nbformat_minor": 2
}
